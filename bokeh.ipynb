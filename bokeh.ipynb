{
  "nbformat": 4,
  "nbformat_minor": 0,
  "metadata": {
    "colab": {
      "provenance": []
    },
    "kernelspec": {
      "name": "python3",
      "display_name": "Python 3"
    },
    "language_info": {
      "name": "python"
    }
  },
  "cells": [
    {
      "cell_type": "code",
      "execution_count": 1,
      "metadata": {
        "id": "l6doKhagoVz6"
      },
      "outputs": [],
      "source": [
        "#que 1\n",
        "from bokeh.plotting import figure, show\n",
        "\n",
        "# Create a figure object\n",
        "plot = figure()\n",
        "\n",
        "# Add data and customize the plot\n",
        "plot.circle([1, 2, 3, 4, 5], [6, 7, 2, 4, 5], size=10, color=\"navy\", alpha=0.5)\n",
        "\n",
        "# Display the plot\n",
        "show(plot)\n"
      ]
    },
    {
      "cell_type": "code",
      "source": [
        "#que 2\n",
        "from bokeh.plotting import figure, show\n",
        "\n",
        "# Create a figure object\n",
        "plot = figure()\n",
        "\n",
        "# Add circle glyphs to the plot\n",
        "plot.circle([1, 2, 3, 4, 5], [6, 7, 2, 4, 5], size=10, color=\"navy\", alpha=0.5)\n",
        "\n",
        "# Display the plot\n",
        "show(plot)\n"
      ],
      "metadata": {
        "id": "Cwo6wO04obG_"
      },
      "execution_count": 2,
      "outputs": []
    },
    {
      "cell_type": "code",
      "source": [
        "#que 3\n",
        "from bokeh.plotting import figure, show\n",
        "from bokeh.models import Legend\n",
        "\n",
        "# Create a figure object\n",
        "plot = figure(title=\"Customized Bokeh Plot\", x_axis_label=\"X-axis\", y_axis_label=\"Y-axis\")\n",
        "\n",
        "# Add data and customize the plot\n",
        "circle_glyph = plot.circle([1, 2, 3, 4, 5], [6, 7, 2, 4, 5], size=10, color=\"navy\", alpha=0.5)\n",
        "line_glyph = plot.line([1, 2, 3, 4, 5], [6, 7, 2, 4, 5], line_width=2, color=\"red\", alpha=0.8)\n",
        "\n",
        "# Customize the axes\n",
        "plot.xaxis.axis_label_text_font_style = \"italic\"\n",
        "plot.yaxis.axis_label_text_font_style = \"italic\"\n",
        "\n",
        "# Customize the title\n",
        "plot.title.text_font_size = \"20pt\"\n",
        "plot.title.text_color = \"green\"\n",
        "\n",
        "# Customize the legend\n",
        "legend = Legend(items=[\n",
        "    (\"Circle\", [circle_glyph]),\n",
        "    (\"Line\", [line_glyph])\n",
        "], location=\"top_left\")\n",
        "plot.add_layout(legend)\n",
        "\n",
        "# Display the plot\n",
        "show(plot)\n"
      ],
      "metadata": {
        "id": "ZXsg-tRpopiA"
      },
      "execution_count": 4,
      "outputs": []
    },
    {
      "cell_type": "code",
      "source": [
        "#que 4\n",
        "\"\"\"The Bokeh server is a component of the Bokeh library that allows you to create and deploy interactive plots and applications that can be updated in real time. It enables you to build dynamic web-based visualizations with interactive capabilities such as zooming, panning, and data streaming.\n",
        "\n",
        "With the Bokeh server, you can define your plots and data sources in Python and have them served as a web application. This enables users to interact with the plots in a web browser, and the server automatically updates the plots based on user input or changes in the data.\"\"\""
      ],
      "metadata": {
        "colab": {
          "base_uri": "https://localhost:8080/",
          "height": 88
        },
        "id": "XhAyYxCEo2_L",
        "outputId": "c74ecc3f-ba07-459a-dbe9-c9c5a21b92a8"
      },
      "execution_count": 5,
      "outputs": [
        {
          "output_type": "execute_result",
          "data": {
            "text/plain": [
              "'The Bokeh server is a component of the Bokeh library that allows you to create and deploy interactive plots and applications that can be updated in real time. It enables you to build dynamic web-based visualizations with interactive capabilities such as zooming, panning, and data streaming.\\n\\nWith the Bokeh server, you can define your plots and data sources in Python and have them served as a web application. This enables users to interact with the plots in a web browser, and the server automatically updates the plots based on user input or changes in the data.'"
            ],
            "application/vnd.google.colaboratory.intrinsic+json": {
              "type": "string"
            }
          },
          "metadata": {},
          "execution_count": 5
        }
      ]
    },
    {
      "cell_type": "code",
      "source": [
        "#que 5\n",
        "\"\"\"from flask import Flask, render_template\n",
        "\n",
        "app = Flask(__name__)\n",
        "\n",
        "@app.route('/')\n",
        "def index():\n",
        "    return render_template('plot.html')\n",
        "\n",
        "if __name__ == '__main__':\n",
        "    app.run()\n",
        "\n",
        "\n",
        "from django.shortcuts import render\n",
        "\n",
        "def plot_view(request):\n",
        "    return render(request, 'plot.html')\"\"\"\n"
      ],
      "metadata": {
        "colab": {
          "base_uri": "https://localhost:8080/"
        },
        "id": "F_A1A4i-pK4J",
        "outputId": "b76a512d-7e6c-4848-8338-3c8dd12b3de7"
      },
      "execution_count": null,
      "outputs": [
        {
          "output_type": "stream",
          "name": "stdout",
          "text": [
            " * Serving Flask app '__main__'\n",
            " * Debug mode: off\n"
          ]
        },
        {
          "output_type": "stream",
          "name": "stderr",
          "text": [
            "INFO:werkzeug:\u001b[31m\u001b[1mWARNING: This is a development server. Do not use it in a production deployment. Use a production WSGI server instead.\u001b[0m\n",
            " * Running on http://127.0.0.1:5000\n",
            "INFO:werkzeug:\u001b[33mPress CTRL+C to quit\u001b[0m\n"
          ]
        }
      ]
    },
    {
      "cell_type": "code",
      "source": [],
      "metadata": {
        "id": "pghMiRLmpXwf"
      },
      "execution_count": null,
      "outputs": []
    }
  ]
}